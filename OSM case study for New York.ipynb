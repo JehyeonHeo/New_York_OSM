{
 "cells": [
  {
   "cell_type": "markdown",
   "metadata": {},
   "source": [
    "# OpenStreetMap Data Case Study"
   ]
  },
  {
   "cell_type": "markdown",
   "metadata": {},
   "source": [
    "## Map Area"
   ]
  },
  {
   "cell_type": "markdown",
   "metadata": {},
   "source": [
    "New York, NY, United States\n",
    "\n",
    "- http://www.openstreetmap.org/relation/175905\n",
    "\n",
    "- https://mapzen.com/data/metro-extracts/metro/new-york_new-york/\n",
    "\n",
    "I'm Korean and I live in South Korea. And I've never been to US before. I already heard about New York and Manhatten many times, and if I can get a opportunity I want to visit there. Therefore I'm interested to do the OpenStreetMap data case study with New York part of the map and see the results of querying."
   ]
  },
  {
   "cell_type": "markdown",
   "metadata": {},
   "source": [
    "## Problems in the map that I decided to solve"
   ]
  },
  {
   "cell_type": "markdown",
   "metadata": {},
   "source": [
    "After making a small sample size of the New York area and creating database with the sample, I noticed lots of problems in the data. In this section I'm going to show the problems that I decided to solve and discuss here.\n",
    "\n",
    "- Inconsistent postal codes (“NY 10533”, “08854-8009”, “10314”)\n",
    "\n",
    "\n",
    "- Incorrect postal codes (New York area zip codes begin with “005”or \"063\" or \"1\". However some zip codes start with \"07\" or \"08\". And there are even some zip codes which aren't 5 digit number nor zip+4 code.)\n",
    "\n",
    "\n",
    "- Same value type but different key names(\"postcode\" and \"postal_code\", \"fax\" and \"Fax\")\n",
    "\n",
    "\n",
    "- Inconsistent phone, fax numbers(\"(718) 623-9065\", \"+1 212 690 4000\", \"718-733-6813\", etc)\n",
    "\n",
    "\n",
    "- Inconsistent website addresses(\"bk.com\", \"http://www.nycgovparks.org/parks/Q048/\", \"www.skyviewonthehudson.com/\")"
   ]
  },
  {
   "cell_type": "markdown",
   "metadata": {},
   "source": [
    "### Postal codes"
   ]
  },
  {
   "cell_type": "markdown",
   "metadata": {},
   "source": [
    "### Same value type but different key names"
   ]
  },
  {
   "cell_type": "markdown",
   "metadata": {},
   "source": [
    "### Inconsistent phone and fax numbers"
   ]
  },
  {
   "cell_type": "markdown",
   "metadata": {},
   "source": [
    "### Inconsistent website addresses"
   ]
  },
  {
   "cell_type": "markdown",
   "metadata": {},
   "source": [
    "## How did I solve above problems"
   ]
  },
  {
   "cell_type": "markdown",
   "metadata": {},
   "source": [
    "### Postal codes"
   ]
  },
  {
   "cell_type": "markdown",
   "metadata": {},
   "source": [
    "### Same value type but different key names"
   ]
  },
  {
   "cell_type": "markdown",
   "metadata": {},
   "source": [
    "### Inconsistent phone and fax numbers"
   ]
  },
  {
   "cell_type": "markdown",
   "metadata": {},
   "source": [
    "### Inconsistent website addresses"
   ]
  },
  {
   "cell_type": "markdown",
   "metadata": {},
   "source": [
    "## Additional problems in the map"
   ]
  },
  {
   "cell_type": "markdown",
   "metadata": {},
   "source": [
    "### Maxspeed"
   ]
  },
  {
   "cell_type": "markdown",
   "metadata": {},
   "source": [
    "### Opening_hours"
   ]
  },
  {
   "cell_type": "markdown",
   "metadata": {},
   "source": [
    "### Same value type but different key names"
   ]
  },
  {
   "cell_type": "markdown",
   "metadata": {},
   "source": [
    "## Ideas for improving the data"
   ]
  },
  {
   "cell_type": "markdown",
   "metadata": {},
   "source": [
    "## Data overview and additional data exploration"
   ]
  },
  {
   "cell_type": "markdown",
   "metadata": {},
   "source": [
    "### File sizes"
   ]
  },
  {
   "cell_type": "code",
   "execution_count": 5,
   "metadata": {},
   "outputs": [
    {
     "name": "stdout",
     "output_type": "stream",
     "text": [
      "New_York_sample.osm : 96696280\n",
      "osm_samples.db : 107073536\n",
      "sample_nodes.csv : 34343067\n",
      "sample_nodes_tags.csv : 960657\n",
      "sample_ways.csv : 3927976\n",
      "sample_ways_nodes.csv : 11669712\n",
      "sample_ways_tags.csv : 9811433\n"
     ]
    }
   ],
   "source": [
    "import os\n",
    "osm_path = 'C:\\\\projects\\\\New_York_OSM\\\\New_York_sample.osm'\n",
    "db_path = 'C:\\\\sqlite_windows\\\\osm_samples.db'\n",
    "print('New_York_sample.osm :', os.stat(osm_path).st_size)\n",
    "print('osm_samples.db :', os.stat(db_path).st_size)\n",
    "\n",
    "basedir = 'C:\\\\projects\\\\New_York_OSM\\\\samples'\n",
    "names = os.listdir(basedir)\n",
    "paths = [os.path.join(basedir, name) for name in names[:5]]\n",
    "sizes = [os.stat(path).st_size for path in paths]\n",
    "for i in range(5):\n",
    "    print(names[i], ':', sizes[i])"
   ]
  },
  {
   "cell_type": "markdown",
   "metadata": {},
   "source": [
    "## Conclusion"
   ]
  }
 ],
 "metadata": {
  "kernelspec": {
   "display_name": "Python [default]",
   "language": "python",
   "name": "python3"
  },
  "language_info": {
   "codemirror_mode": {
    "name": "ipython",
    "version": 3
   },
   "file_extension": ".py",
   "mimetype": "text/x-python",
   "name": "python",
   "nbconvert_exporter": "python",
   "pygments_lexer": "ipython3",
   "version": "3.6.2"
  }
 },
 "nbformat": 4,
 "nbformat_minor": 2
}
