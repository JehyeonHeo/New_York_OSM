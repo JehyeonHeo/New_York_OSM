{
 "cells": [
  {
   "cell_type": "markdown",
   "metadata": {},
   "source": [
    "# Map Area"
   ]
  },
  {
   "cell_type": "markdown",
   "metadata": {},
   "source": [
    "New York, NY, United States\n",
    "\n",
    "- http://www.openstreetmap.org/relation/175905\n",
    "\n",
    "- https://mapzen.com/data/metro-extracts/metro/new-york_new-york/\n",
    "\n",
    "I'm Korean and I live in South Korea. And I've never been to US before. I already heard about New York and Manhatten many times, and if I can get a opportunity I want to visit there. Therefore I'm interested to do the OpenStreetMap data case study with New York part of the map and see the results of querying."
   ]
  },
  {
   "cell_type": "markdown",
   "metadata": {},
   "source": [
    "# Problems in the map that I decided to solve"
   ]
  },
  {
   "cell_type": "markdown",
   "metadata": {},
   "source": [
    "After making a small sample size of the New York area and creating database with the sample, I noticed lots of problems in the data. In this section I'm going to show the problems that I decided to solve and discuss here.\n",
    "\n",
    "- Inconsistent postal codes (“NY 10533”, “08854-8009”, “10314”)\n",
    "\n",
    "\n",
    "- Incorrect postal codes (New York area zip codes begin with “005”or \"063\" or \"1\". However some zip codes start with \"07\" or \"08\". And there are even some zip codes which aren't 5 digit number nor zip+4 code.)\n",
    "\n",
    "\n",
    "- Same value type but different key names(\"postcode\" and \"postal_code\", \"fax\" and \"Fax\")\n",
    "\n",
    "\n",
    "- Inconsistent phone, fax numbers(\"(718) 623-9065\", \"+1 212 690 4000\", \"718-733-6813\", etc)\n",
    "\n",
    "\n",
    "- Inconsistent website addresses(\"bk.com\", \"http://www.nycgovparks.org/parks/Q048/\", \"www.skyviewonthehudson.com/\")"
   ]
  },
  {
   "cell_type": "markdown",
   "metadata": {},
   "source": [
    "## Postal codes"
   ]
  },
  {
   "cell_type": "markdown",
   "metadata": {},
   "source": [
    "<div class = 'alert alert-block alert-success'>\n",
    "- The results of querying the first 2 digits of values of field 'postcode' and their numbers -  \n",
    "('11', 26811)\n",
    "('10', 9473)\n",
    "('07', 68)\n",
    "('08', 66)\n",
    "('NY', 8)\n",
    "('06', 5)\n",
    "('32', 1)\n",
    "('56', 1)\n",
    "</div>"
   ]
  },
  {
   "cell_type": "markdown",
   "metadata": {},
   "source": [
    "- Most of postcodes start from 10 or 11. \n",
    "- And some of them start from 08 or 07 or 06 and they mean New Jersey or Connecticut. I [used](https://www.unitedstateszipcodes.org/ny/) [these](http://www.geonames.org/postal-codes/postal-codes-us.html) [sites](https://en.wikipedia.org/wiki/New_York_metropolitan_area). Therefore I can infer that this New York OSM data has information about not just New York state, but New York Metropolitan area."
   ]
  },
  {
   "cell_type": "markdown",
   "metadata": {},
   "source": [
    "<div class = 'alert alert-block alert-success'>\n",
    "- The results of querying the values of 'postcode's which are not 5 digit number and their numbers -  \n",
    "('NY 10533', 6)\n",
    "('08901-8541', 2)\n",
    "('07501-210', 1)\n",
    "('08854-8009', 1)\n",
    "('08854-8035', 1)\n",
    "('08854-8037', 1)\n",
    "('08854-8039', 1)\n",
    "('08854-8052', 1)\n",
    "('08901-1004', 1)\n",
    "('08901-1904', 1)\n",
    "('08901-2867', 1)\n",
    "('08901-8502', 1)\n",
    "('08901-8524', 1)\n",
    "('08901-8528', 1)\n",
    "('08901-8539', 1)\n",
    "('08901-8553', 1)\n",
    "('10016-0122', 1)\n",
    "('115422', 1)\n",
    "('320', 1)\n",
    "('56', 1)\n",
    "('NY 10001', 1)\n",
    "('NY 10026', 1)\n",
    "</div>"
   ]
  },
  {
   "cell_type": "markdown",
   "metadata": {},
   "source": [
    "- There are 3 different types of postal codes. First, 5 digit code. Second, 5 digit code added by 4 digits connected by '-'. Third, 5 digit code started by 'NY '.I think that I can programmatically unify them. I'm going to use 5 digit code and zip+4 code both because zip+4 code is better at mailing([reference](https://smartystreets.com/articles/zip-4-code)).\n",
    "- There are 2 or 3 or 6 digit code and I think that they were input errors. When cleaning the data before sending into DB, I'll remove them."
   ]
  },
  {
   "cell_type": "markdown",
   "metadata": {},
   "source": [
    "## Inconsistent phone and fax numbers"
   ]
  },
  {
   "cell_type": "markdown",
   "metadata": {},
   "source": [
    "<div class = 'alert alert-block alert-success'>\n",
    "- The results of querying the values of field 'fax' -  \n",
    "('+1 212 242 1278',)\n",
    "('+1 212 678 6842',)\n",
    "('+1 732 5432409',)\n",
    "('+1 973 761 9193',)\n",
    "('+1-212-268-0847',)\n",
    "('718-268-7382',)\n",
    "('718-361-2734',)\n",
    "</div>"
   ]
  },
  {
   "cell_type": "markdown",
   "metadata": {},
   "source": [
    "- I'm going to make the fax numbers have the [same format](http://wiki.openstreetmap.org/wiki/Key:phone) as phone number's."
   ]
  },
  {
   "cell_type": "markdown",
   "metadata": {},
   "source": [
    "<div class = 'alert alert-block alert-success'>\n",
    "- A part of results of querying the values of field 'phone' -  \n",
    "('(973) 564-9092',)\n",
    "('+1 (201) 398-0944',)\n",
    "('+1 203 863 3000',)\n",
    "('+1 212-254-1675',)\n",
    "('+1 516 783 86 60',)\n",
    "('+1-203-703-9080',)\n",
    "('+17188810010',)\n",
    "('1-855-928-8672',)\n",
    "('201 224 8444',)\n",
    "('201-330-1416',)\n",
    "</div>"
   ]
  },
  {
   "cell_type": "markdown",
   "metadata": {},
   "source": [
    "- There are lots of different types of phone numbers in the result. I'm going to make them have ['(NPA) NXX-XXXX' format](https://en.wikipedia.org/wiki/National_conventions_for_writing_telephone_numbers) following the US national telephone writing convention, where NPA is the numbering plan area code and NXX-XXXX is the subscriber number."
   ]
  },
  {
   "cell_type": "markdown",
   "metadata": {},
   "source": [
    "## Inconsistent website addresses"
   ]
  },
  {
   "cell_type": "markdown",
   "metadata": {},
   "source": [
    "<div class = 'alert alert-block alert-success'>\n",
    "- The results of querying the values of field 'website' which don't start with 'http' -  \n",
    "('baileyarboretum.org',)\n",
    "('bigtreebottles.com',)\n",
    "('bk.com',)\n",
    "('brookwoodatbayshore.com',)\n",
    "('hsbc.com',)\n",
    "('learnandplayny.com',)\n",
    "('nycgovparks.org',)\n",
    "('subway.com',)\n",
    "('usps.com',)\n",
    "('www.breadsbakery.com',)\n",
    "('www.creek.net',)\n",
    "('www.dallasbbq.com',)\n",
    "('www.efanyc.org',)\n",
    "('www.mcstudios.com/',)\n",
    "('www.naturino.com',)\n",
    "('www.skyviewonthehudson.com/',)\n",
    "('www.westcaldwellsaladworks.com',)\n",
    "</div>"
   ]
  },
  {
   "cell_type": "markdown",
   "metadata": {},
   "source": [
    "- There are three different forms of website addresses. First, URL started from 'http' or 'https' scheme. Second, domain name started from 'www'. Third, domain name without 'www'. \n",
    "- I think that it is better to make all website addresses which don't start with 'http' or 'https' start with 'http://' for the consistency(178 of them have this format). And the other reason is that even if there are some sites which don't use 'www' subdomain, there isn't any websites which can be accessed without using http protocol. Referenced [these](https://en.wikipedia.org/wiki/URL) [sites](https://stackoverflow.com/questions/8951423/html-links-without-http-protocol)."
   ]
  },
  {
   "cell_type": "markdown",
   "metadata": {},
   "source": [
    "## Same value type but different key names"
   ]
  },
  {
   "cell_type": "markdown",
   "metadata": {},
   "source": [
    "<div class = 'alert alert-block alert-success'>\n",
    "- The results of querying the values of field 'postal_code' -  \n",
    "(11696141, 'postal_code', '07933', 'regular')\n",
    "(11697677, 'postal_code', '07933', 'regular')\n",
    "(462441978, 'postal_code', '06905', 'regular')\n",
    "</div>"
   ]
  },
  {
   "cell_type": "markdown",
   "metadata": {},
   "source": [
    "- Most of postal codes are in the key named 'postcode'. But there are 3 postal codes that are in the key named 'postal_code'. It is similar to the 'fax' and 'Fax' problem, and I'm going to alter the key 'postal_code' to 'postcode'."
   ]
  },
  {
   "cell_type": "markdown",
   "metadata": {},
   "source": [
    "<div class = 'alert alert-block alert-success'>\n",
    "- The results of querying the values of field 'Fax' -  \n",
    "('732-548-8887',)\n",
    "</div>"
   ]
  },
  {
   "cell_type": "markdown",
   "metadata": {},
   "source": [
    "- 'Fax' and 'fax' are same but divided by capital or small letter and the results are like phone number's. I'm going to alter the key 'Fax' to 'fax' and make the numbers have the [same format](http://wiki.openstreetmap.org/wiki/Key:phone) as phone number's."
   ]
  },
  {
   "cell_type": "markdown",
   "metadata": {},
   "source": [
    "# How did I solve above problems"
   ]
  },
  {
   "cell_type": "markdown",
   "metadata": {},
   "source": [
    "## Postal codes"
   ]
  },
  {
   "cell_type": "code",
   "execution_count": null,
   "metadata": {
    "collapsed": true
   },
   "outputs": [],
   "source": [
    "if key in ['postcode', 'postal_code']:\n",
    "    if key == 'postal_code':\n",
    "        key = 'postcode'   \n",
    "    if value[:2].isdigit() == False:\n",
    "        value = value[2:].strip()\n",
    "    if (len(value) == 5 and value.isdigit()) == False and \\\n",
    "        (len(value) == 10 and value[:5].isdigit() and \\\n",
    "         value[-4:].isdigit() and value[5] == '-') == False:\n",
    "            continue"
   ]
  },
  {
   "cell_type": "markdown",
   "metadata": {},
   "source": [
    "- First, I changed the key name 'postal_code' to 'postcode' for consistency. And then, if the first two digits are not numbers like 'NY', I removed them and extra spaces. After that, I only accepted the value whose format is 5 digit number or the 10 figures of zip+4 code."
   ]
  },
  {
   "cell_type": "markdown",
   "metadata": {},
   "source": [
    "## Inconsistent phone and fax numbers"
   ]
  },
  {
   "cell_type": "code",
   "execution_count": null,
   "metadata": {
    "collapsed": true
   },
   "outputs": [],
   "source": [
    "if key in ['phone', 'fax', 'Fax']:\n",
    "    if key == 'Fax':\n",
    "        key = 'fax'\n",
    "    if re.search(r'[a-z|A-Z]', value):\n",
    "        continue\n",
    "    if value[:2] in ['+1', '01', '1 ', '1-']:\n",
    "        value = value[2:]\n",
    "    for ch in [' ', '-', '.', '(', ')']:\n",
    "        if ch in value:\n",
    "            value = value.replace(ch, '')\n",
    "    if (len(value) == 10 and value.isdigit()) == False:\n",
    "        continue\n",
    "    value = '({}) {}-{}'.format(value[:3], value[3:6], value[6:])"
   ]
  },
  {
   "cell_type": "markdown",
   "metadata": {},
   "source": [
    "- First, I changed the key name 'Fax' to 'fax' for consistency. And then, I removed the key and value if there is any alphabet in the value using re module and 'continue'. If the first two figures are '+1' or '01' or '1 ' or '1-', I removed the part to make '(xxx) xxx - xxxx' format. And I temporarily removed ' ', '-', '(', ')' to check whether the remained part of the value is 10 digit number. If not, I removed the key and value again. Finally, I changed the value to make it follow the phone number format."
   ]
  },
  {
   "cell_type": "markdown",
   "metadata": {},
   "source": [
    "## Inconsistent website addresses"
   ]
  },
  {
   "cell_type": "code",
   "execution_count": null,
   "metadata": {
    "collapsed": true
   },
   "outputs": [],
   "source": [
    "if key == 'website':\n",
    "    if value[:4] != 'http':\n",
    "        value = 'http://' + value"
   ]
  },
  {
   "cell_type": "markdown",
   "metadata": {},
   "source": [
    "- If the value doesn't start with 'http', I added 'http://'."
   ]
  },
  {
   "cell_type": "markdown",
   "metadata": {},
   "source": [
    "## Same value type but different key names"
   ]
  },
  {
   "cell_type": "markdown",
   "metadata": {},
   "source": [
    "- Before entered into cleaning process of postcode and fax number, I added \"**if key == 'A': key = 'B'**\" sentence to change key name 'A' to 'B'."
   ]
  },
  {
   "cell_type": "markdown",
   "metadata": {},
   "source": [
    "# Additional problems in the map"
   ]
  },
  {
   "cell_type": "markdown",
   "metadata": {},
   "source": [
    "## Maxspeed"
   ]
  },
  {
   "cell_type": "markdown",
   "metadata": {},
   "source": [
    "<div class = 'alert alert-block alert-success'>\n",
    "- The results of querying the values of field 'maxspeed' -  \n",
    "<dr> \n",
    "<dr> \n",
    "('10',)\n",
    "('10 mph',)\n",
    "('110 mph',)\n",
    "('125 mph',)\n",
    "('15',)\n",
    "('15 mph',)\n",
    "('160',)\n",
    "('177',)\n",
    "('20 mph',)\n",
    "('201',)\n",
    "('217',)\n",
    "('25 mph',)\n",
    "('30',)\n",
    "('30 mph',)\n",
    "('35',)\n",
    "('35 mph',)\n",
    "('40 mph',)\n",
    "('45 mph',)\n",
    "('48',)\n",
    "('50',)\n",
    "('50 mph',)\n",
    "('55 mph',)\n",
    "('60',)\n",
    "('60 mph',)\n",
    "('64',)\n",
    "('65 mph',)\n",
    "('70 mph',)\n",
    "('72',)\n",
    "('75 mph',)\n",
    "('80',)\n",
    "('90 mph',)\n",
    "('Amtrak ETT 2010-01-18',)\n",
    "('Conrail ETT 2013-07-01',)\n",
    "('Conrail ETT 2013-10-17',)\n",
    "('signals',)\n",
    "</div>"
   ]
  },
  {
   "cell_type": "markdown",
   "metadata": {},
   "source": [
    "- Some of them are just number and others are number added by 'mph'. According to the [wiki](http://wiki.openstreetmap.org/wiki/Key:maxspeed), 'km/h(or kph)' is the basic unit of maxspeed. And the value which not measured by kph should be added to the end of it. \n",
    "\n",
    "\n",
    "- But when I see the numbers which aren't added by any unit, some of them are finished by '5' or '0', and others are finished by '1', '2', '7', etc. I think that it is reasonable to think that the former numbers' unit is 'mph', the [US standard speed unit](https://en.wikipedia.org/wiki/Miles_per_hour), and the latter numbers are converted to 'km/h' from 'mph'(because 48, 64, 72, 177, 201, 217 km/h can be converted to 30, 40, 45, 110, 125, 135 mph each). But it is my guess and to correctly add units, I need to find the maxspeed information for each place. Approximate speed limits in New York is in [here](https://en.wikipedia.org/wiki/Speed_limits_in_the_United_States_by_jurisdiction#New_York).\n",
    "\n",
    "\n",
    "- And some values are about maxspeed's source, not about speed limit. They entered into here because when I process the keys which have lower colons in them, I divided them by ':' and the left part became types and the right part became keys. Therefore in this case of database, I need to use \"where tags.key = 'maxspeed' and tags.type = 'regular'\" in the query to extract only speed limit information."
   ]
  },
  {
   "cell_type": "markdown",
   "metadata": {},
   "source": [
    "## Opening_hours"
   ]
  },
  {
   "cell_type": "markdown",
   "metadata": {},
   "source": [
    "<div class = 'alert alert-block alert-success'>\n",
    "- A part of results of querying the values of field 'opening_hours'-  \n",
    "('24/7',)\n",
    "('5pm - 9pm (weekdays) , 2pm - 8pm ( weekend)',)\n",
    "('772',)\n",
    "('Mon - Fri, 6am - 9pm; Sat, 6am - 8am; Sun, 6am - 7pm',)\n",
    "('open until 4am',)\n",
    "</div>"
   ]
  },
  {
   "cell_type": "markdown",
   "metadata": {},
   "source": [
    "- There are some rules to write opening hours data in the [wiki](http://wiki.openstreetmap.org/wiki/Key:opening_hours). But we can find that there are some datas which don't follow the rules. In the results, some of them use 'am' or 'pm' instead of 'hh:mm' syntax. Also, some of them use words like 'until' and 'to' when it is possible to use '-' symbol. It can be a small problem when users read the datas, but it can be a big problem to classify them programmatically. It is a consistency matter."
   ]
  },
  {
   "cell_type": "markdown",
   "metadata": {},
   "source": [
    "# Ideas for improving the data"
   ]
  },
  {
   "cell_type": "markdown",
   "metadata": {},
   "source": [
    "# Data overview and additional data exploration"
   ]
  },
  {
   "cell_type": "markdown",
   "metadata": {},
   "source": [
    "## File sizes"
   ]
  },
  {
   "cell_type": "markdown",
   "metadata": {},
   "source": [
    "New_York_sample.osm : 92 MB\n",
    "osm_samples.db : 102 MB\n",
    "sample_nodes.csv : 33 MB\n",
    "sample_nodes_tags.csv : 1 MB\n",
    "sample_ways.csv : 4 MB\n",
    "sample_ways_nodes.csv : 11 MB\n",
    "sample_ways_tags.csv : 9 MB"
   ]
  },
  {
   "cell_type": "markdown",
   "metadata": {},
   "source": [
    "I'm going to explore about building, sport, and shop fields. And I'm going to query at nodes_tags and ways_tags tables. "
   ]
  },
  {
   "cell_type": "markdown",
   "metadata": {},
   "source": [
    "## Top 5 usage of buildings."
   ]
  },
  {
   "cell_type": "code",
   "execution_count": 2,
   "metadata": {
    "collapsed": true
   },
   "outputs": [],
   "source": [
    "building_query = \"select tags.value, count(*) as num \\\n",
    "        from (select * from nodes_tags union all select * from ways_tags) tags \\\n",
    "        where tags.key = 'building' and tags.value != 'yes' \\\n",
    "        group by tags.value \\\n",
    "        order by num desc \\\n",
    "        limit 5;\""
   ]
  },
  {
   "cell_type": "markdown",
   "metadata": {},
   "source": [
    "('house', 5393)\n",
    "('garage', 4088)\n",
    "('shed', 489)\n",
    "('commercial', 317)\n",
    "('service', 218)"
   ]
  },
  {
   "cell_type": "markdown",
   "metadata": {},
   "source": [
    "- Most of the buildings are for house or garage in New York."
   ]
  },
  {
   "cell_type": "markdown",
   "metadata": {},
   "source": [
    "## The number of shop information."
   ]
  },
  {
   "cell_type": "code",
   "execution_count": 4,
   "metadata": {
    "collapsed": true
   },
   "outputs": [],
   "source": [
    "shop_query = \"select tags.key, count(*) as num\\\n",
    "        from (select * from nodes_tags union all select * from ways_tags) tags \\\n",
    "        where tags.key = 'shop';\""
   ]
  },
  {
   "cell_type": "markdown",
   "metadata": {},
   "source": [
    "('shop', 211)"
   ]
  },
  {
   "cell_type": "markdown",
   "metadata": {},
   "source": [
    "## The number of shop information which have phone number or email or website or facebook."
   ]
  },
  {
   "cell_type": "code",
   "execution_count": 5,
   "metadata": {
    "collapsed": true
   },
   "outputs": [],
   "source": [
    "shop_with_phone_query = \"select tags.key, count(*) as num\\\n",
    "        from (select * from nodes_tags union all select * from ways_tags) tags \\\n",
    "        join (select distinct(id) from nodes_tags \\\n",
    "                where key in ('phone', 'email', 'website', 'facebook') \\\n",
    "                    union all \\\n",
    "              select distinct(id) from ways_tags \\\n",
    "                where key in ('phone', 'email', 'website', 'facebook')) ids \\\n",
    "        on tags.id = ids.id \\\n",
    "        where tags.key = 'shop';\""
   ]
  },
  {
   "cell_type": "markdown",
   "metadata": {},
   "source": [
    "('shop', 40)"
   ]
  },
  {
   "cell_type": "markdown",
   "metadata": {},
   "source": [
    "- The number of shop information in New York OSM sample is 211 but only 40 of them have contact information. I think that it is better to make each shop information to have at least one contact information in the map."
   ]
  },
  {
   "cell_type": "markdown",
   "metadata": {},
   "source": [
    "# Conclusion"
   ]
  }
 ],
 "metadata": {
  "kernelspec": {
   "display_name": "Python [default]",
   "language": "python",
   "name": "python3"
  },
  "language_info": {
   "codemirror_mode": {
    "name": "ipython",
    "version": 3
   },
   "file_extension": ".py",
   "mimetype": "text/x-python",
   "name": "python",
   "nbconvert_exporter": "python",
   "pygments_lexer": "ipython3",
   "version": "3.6.2"
  }
 },
 "nbformat": 4,
 "nbformat_minor": 2
}
