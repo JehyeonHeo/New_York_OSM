{
 "cells": [
  {
   "cell_type": "code",
   "execution_count": 12,
   "metadata": {},
   "outputs": [
    {
     "name": "stdout",
     "output_type": "stream",
     "text": [
      "sample_nodes.csv : 34343067\n",
      "sample_nodes_tags.csv : 960657\n",
      "sample_ways.csv : 3927976\n",
      "sample_ways_nodes.csv : 11669712\n",
      "sample_ways_tags.csv : 9811433\n"
     ]
    }
   ],
   "source": [
    "import os\n",
    "basedir = 'C:\\\\projects\\\\New_York_OSM\\\\samples'\n",
    "names = os.listdir(basedir)\n",
    "paths = [os.path.join(basedir, name) for name in names[:5]]\n",
    "sizes = [os.stat(path).st_size for path in paths]\n",
    "for i in range(5):\n",
    "    print(names[i], ':', sizes[i])"
   ]
  }
 ],
 "metadata": {
  "kernelspec": {
   "display_name": "Python [default]",
   "language": "python",
   "name": "python3"
  },
  "language_info": {
   "codemirror_mode": {
    "name": "ipython",
    "version": 3
   },
   "file_extension": ".py",
   "mimetype": "text/x-python",
   "name": "python",
   "nbconvert_exporter": "python",
   "pygments_lexer": "ipython3",
   "version": "3.6.2"
  }
 },
 "nbformat": 4,
 "nbformat_minor": 2
}
